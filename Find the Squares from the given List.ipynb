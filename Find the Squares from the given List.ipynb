{
 "cells": [
  {
   "cell_type": "code",
   "execution_count": 1,
   "metadata": {},
   "outputs": [
    {
     "name": "stdout",
     "output_type": "stream",
     "text": [
      "Square the elements of the list:\n",
      "[16, 25, 4, 81]\n"
     ]
    }
   ],
   "source": [
    "input_list = [int(x) for x in input(\"Enter a list of numbers, separated by spaces: \").split()]\n",
    "\n",
    "def square(x):\n",
    "  return x * x\n",
    "\n",
    "squared_list = map(square, input_list)\n",
    "\n",
    "print(\"Square the elements of the list:\")\n",
    "print(list(squared_list))\n",
    "\n",
    "input_list = [int(x) for x in input(\"Enter a list of numbers, separated by spaces: \").split()]\n",
    "\n",
    "def is_even(x):\n",
    "  return x % 2 == 0"
   ]
  }
 ],
 "metadata": {
  "interpreter": {
   "hash": "aee8b7b246df8f9039afb4144a1f6fd8d2ca17a180786b69acc140d282b71a49"
  },
  "kernelspec": {
   "display_name": "Python 3.11.4 64-bit",
   "language": "python",
   "name": "python3"
  },
  "language_info": {
   "codemirror_mode": {
    "name": "ipython",
    "version": 3
   },
   "file_extension": ".py",
   "mimetype": "text/x-python",
   "name": "python",
   "nbconvert_exporter": "python",
   "pygments_lexer": "ipython3",
   "version": "3.11.4"
  },
  "orig_nbformat": 4
 },
 "nbformat": 4,
 "nbformat_minor": 2
}
